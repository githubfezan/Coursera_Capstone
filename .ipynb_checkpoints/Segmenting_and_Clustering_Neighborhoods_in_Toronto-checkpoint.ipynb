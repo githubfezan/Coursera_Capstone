{
 "cells": [
  {
   "cell_type": "markdown",
   "metadata": {},
   "source": [
    "# Segmenting and Clustering Neighborhoods in Toronto"
   ]
  },
  {
   "cell_type": "markdown",
   "metadata": {},
   "source": [
    "### Objective"
   ]
  },
  {
   "cell_type": "markdown",
   "metadata": {},
   "source": [
    "In this assignment, we're required to explore, segment, and cluster the neighborhoods in the city of Toronto. We'll be scraping the Wikipedia page and wrangle the data, clean it, and then read it into a pandas dataframe so that it is in a structured format like the New York dataset.\n",
    "\n",
    "Once the data is in a structured format, we'll replicate the analysis that we did to the New York City dataset to explore and cluster the neighborhoods in the city of Toronto."
   ]
  },
  {
   "cell_type": "markdown",
   "metadata": {},
   "source": [
    "#### Requirement: 1"
   ]
  },
  {
   "cell_type": "markdown",
   "metadata": {},
   "source": [
    "Use pandas, or the BeautifulSoup package, or any other way to transform the data in the table on the Wikipedia page into the above pandas dataframe."
   ]
  },
  {
   "cell_type": "code",
   "execution_count": 3,
   "metadata": {},
   "outputs": [
    {
     "name": "stdout",
     "output_type": "stream",
     "text": [
      "Installations done.\n"
     ]
    }
   ],
   "source": [
    "# Installing required libraries\n",
    "#!pip install beautifulsoup4\n",
    "#!pip install lxml\n",
    "#!pip install geopy\n",
    "#!pip install geocoder\n",
    "print('Installations done.')"
   ]
  },
  {
   "cell_type": "code",
   "execution_count": 4,
   "metadata": {},
   "outputs": [
    {
     "name": "stdout",
     "output_type": "stream",
     "text": [
      "Libraries imported.\n",
      "Options adjusted.\n"
     ]
    }
   ],
   "source": [
    "# Importing libraries\n",
    "import pandas as pd\n",
    "import requests\n",
    "from random import randint\n",
    "from time import sleep\n",
    "import sys\n",
    "import logging\n",
    "\n",
    "from bs4 import BeautifulSoup\n",
    "#from geopy.geocoders import Nominatim # module to convert an address into latitude and longitude values\n",
    "import geocoder as gc # import geocoder\n",
    "\n",
    "import pprint\n",
    "\n",
    "print('Libraries imported.')\n",
    "\n",
    "# Adjust options\n",
    "#pd.set_option('display.max_colwidth', 100)\n",
    "#pd.reset_option('display.max_colwidth')\n",
    "pp = pprint.PrettyPrinter(width=120)\n",
    "print('Options adjusted.')"
   ]
  },
  {
   "cell_type": "code",
   "execution_count": 5,
   "metadata": {},
   "outputs": [
    {
     "name": "stdout",
     "output_type": "stream",
     "text": [
      "'PostalCode' column has unique values: True\n",
      "'Neighborhood' column doen't have a blank value: True\n"
     ]
    },
    {
     "data": {
      "text/plain": [
       "(103, 3)"
      ]
     },
     "execution_count": 5,
     "metadata": {},
     "output_type": "execute_result"
    }
   ],
   "source": [
    "url = requests.get('https://en.wikipedia.org/wiki/List_of_postal_codes_of_Canada:_M').text\n",
    "\n",
    "page = BeautifulSoup(url,'lxml')\n",
    "\n",
    "table = page.find ('table', class_='wikitable sortable')\n",
    "\n",
    "header_list=[]\n",
    "for header in table.findAll ('th'):\n",
    "    header_list.append(header.text.replace('\\n', '').title().replace(' ',''))\n",
    "    \n",
    "output_rows = []\n",
    "for table_row in table.findAll('tr'):\n",
    "    columns = table_row.findAll('td')\n",
    "    output_row = []\n",
    "    for column in columns:\n",
    "        output_row.append(column.text.replace('\\n', '').replace(' / ',', '))\n",
    "    if output_row and not output_row[1]=='Not assigned': \n",
    "        output_rows.append(output_row)\n",
    "\n",
    "df = pd.DataFrame(output_rows)\n",
    "df.columns = header_list\n",
    "\n",
    "print ('\\'PostalCode\\' column has unique values:', df['PostalCode'].nunique()==df['PostalCode'].size)\n",
    "print ('\\'Neighborhood\\' column doen\\'t have a blank value:', df[df['Neighborhood']==''].size==0)\n",
    "\n",
    "df.shape"
   ]
  },
  {
   "cell_type": "code",
   "execution_count": 7,
   "metadata": {},
   "outputs": [
    {
     "name": "stdout",
     "output_type": "stream",
     "text": [
      "Location retrieval progress: 100%   \r"
     ]
    },
    {
     "data": {
      "text/html": [
       "<div>\n",
       "<style scoped>\n",
       "    .dataframe tbody tr th:only-of-type {\n",
       "        vertical-align: middle;\n",
       "    }\n",
       "\n",
       "    .dataframe tbody tr th {\n",
       "        vertical-align: top;\n",
       "    }\n",
       "\n",
       "    .dataframe thead th {\n",
       "        text-align: right;\n",
       "    }\n",
       "</style>\n",
       "<table border=\"1\" class=\"dataframe\">\n",
       "  <thead>\n",
       "    <tr style=\"text-align: right;\">\n",
       "      <th></th>\n",
       "      <th>PostalCode</th>\n",
       "      <th>Borough</th>\n",
       "      <th>Neighborhood</th>\n",
       "      <th>Latitude</th>\n",
       "      <th>Longitude</th>\n",
       "    </tr>\n",
       "  </thead>\n",
       "  <tbody>\n",
       "    <tr>\n",
       "      <td>0</td>\n",
       "      <td>M3A</td>\n",
       "      <td>North York</td>\n",
       "      <td>Parkwoods</td>\n",
       "      <td>43.752935</td>\n",
       "      <td>-79.335641</td>\n",
       "    </tr>\n",
       "    <tr>\n",
       "      <td>1</td>\n",
       "      <td>M4A</td>\n",
       "      <td>North York</td>\n",
       "      <td>Victoria Village</td>\n",
       "      <td>43.728102</td>\n",
       "      <td>-79.311890</td>\n",
       "    </tr>\n",
       "    <tr>\n",
       "      <td>2</td>\n",
       "      <td>M5A</td>\n",
       "      <td>Downtown Toronto</td>\n",
       "      <td>Regent Park, Harbourfront</td>\n",
       "      <td>43.650964</td>\n",
       "      <td>-79.353041</td>\n",
       "    </tr>\n",
       "    <tr>\n",
       "      <td>3</td>\n",
       "      <td>M6A</td>\n",
       "      <td>North York</td>\n",
       "      <td>Lawrence Manor, Lawrence Heights</td>\n",
       "      <td>43.723265</td>\n",
       "      <td>-79.451211</td>\n",
       "    </tr>\n",
       "    <tr>\n",
       "      <td>4</td>\n",
       "      <td>M7A</td>\n",
       "      <td>Downtown Toronto</td>\n",
       "      <td>Queen's Park, Ontario Provincial Government</td>\n",
       "      <td>43.661790</td>\n",
       "      <td>-79.389390</td>\n",
       "    </tr>\n",
       "    <tr>\n",
       "      <td>...</td>\n",
       "      <td>...</td>\n",
       "      <td>...</td>\n",
       "      <td>...</td>\n",
       "      <td>...</td>\n",
       "      <td>...</td>\n",
       "    </tr>\n",
       "    <tr>\n",
       "      <td>98</td>\n",
       "      <td>M8X</td>\n",
       "      <td>Etobicoke</td>\n",
       "      <td>The Kingsway, Montgomery Road , Old Mill North</td>\n",
       "      <td>43.653340</td>\n",
       "      <td>-79.509766</td>\n",
       "    </tr>\n",
       "    <tr>\n",
       "      <td>99</td>\n",
       "      <td>M4Y</td>\n",
       "      <td>Downtown Toronto</td>\n",
       "      <td>Church and Wellesley</td>\n",
       "      <td>43.666659</td>\n",
       "      <td>-79.381472</td>\n",
       "    </tr>\n",
       "    <tr>\n",
       "      <td>100</td>\n",
       "      <td>M7Y</td>\n",
       "      <td>East Toronto</td>\n",
       "      <td>Business reply mail Processing CentrE</td>\n",
       "      <td>43.648700</td>\n",
       "      <td>-79.385450</td>\n",
       "    </tr>\n",
       "    <tr>\n",
       "      <td>101</td>\n",
       "      <td>M8Y</td>\n",
       "      <td>Etobicoke</td>\n",
       "      <td>Old Mill South, King's Mill Park, Sunnylea, Hu...</td>\n",
       "      <td>43.632798</td>\n",
       "      <td>-79.493017</td>\n",
       "    </tr>\n",
       "    <tr>\n",
       "      <td>102</td>\n",
       "      <td>M8Z</td>\n",
       "      <td>Etobicoke</td>\n",
       "      <td>Mimico NW, The Queensway West, South of Bloor,...</td>\n",
       "      <td>43.625490</td>\n",
       "      <td>-79.526000</td>\n",
       "    </tr>\n",
       "  </tbody>\n",
       "</table>\n",
       "<p>103 rows × 5 columns</p>\n",
       "</div>"
      ],
      "text/plain": [
       "    PostalCode           Borough  \\\n",
       "0          M3A        North York   \n",
       "1          M4A        North York   \n",
       "2          M5A  Downtown Toronto   \n",
       "3          M6A        North York   \n",
       "4          M7A  Downtown Toronto   \n",
       "..         ...               ...   \n",
       "98         M8X         Etobicoke   \n",
       "99         M4Y  Downtown Toronto   \n",
       "100        M7Y      East Toronto   \n",
       "101        M8Y         Etobicoke   \n",
       "102        M8Z         Etobicoke   \n",
       "\n",
       "                                          Neighborhood   Latitude  Longitude  \n",
       "0                                            Parkwoods  43.752935 -79.335641  \n",
       "1                                     Victoria Village  43.728102 -79.311890  \n",
       "2                            Regent Park, Harbourfront  43.650964 -79.353041  \n",
       "3                     Lawrence Manor, Lawrence Heights  43.723265 -79.451211  \n",
       "4          Queen's Park, Ontario Provincial Government  43.661790 -79.389390  \n",
       "..                                                 ...        ...        ...  \n",
       "98      The Kingsway, Montgomery Road , Old Mill North  43.653340 -79.509766  \n",
       "99                                Church and Wellesley  43.666659 -79.381472  \n",
       "100              Business reply mail Processing CentrE  43.648700 -79.385450  \n",
       "101  Old Mill South, King's Mill Park, Sunnylea, Hu...  43.632798 -79.493017  \n",
       "102  Mimico NW, The Queensway West, South of Bloor,...  43.625490 -79.526000  \n",
       "\n",
       "[103 rows x 5 columns]"
      ]
     },
     "execution_count": 7,
     "metadata": {},
     "output_type": "execute_result"
    }
   ],
   "source": [
    "# initialize your variable to None\n",
    "lat_lng_coords = None\n",
    "\n",
    "lat_list=[]\n",
    "lng_list=[]\n",
    "\n",
    "sys.stdout.write(\"Location retrieval progress: %d%%   \\r\" % (0))\n",
    "sys.stdout.flush()\n",
    "\n",
    "logging.basicConfig(level=logging.ERROR,\n",
    "                    format='%(asctime)s %(name)-12s %(levelname)-8s %(message)s', \n",
    "                    filename='errors.log', \n",
    "                    filemode='w')\n",
    "\n",
    "for ind in df.index:\n",
    "    # loop until you get the coordinates\n",
    "    attempt = 1\n",
    "    while(lat_lng_coords is None):\n",
    "        try:\n",
    "            g = gc.arcgis('{}, Toronto, Ontario'.format(df['PostalCode'][ind]))\n",
    "            lat_lng_coords = g.latlng\n",
    "        except:\n",
    "            if attempt <=5:\n",
    "                logging.error('Failed attempt #{} for {}, Toronto, Ontario'.format(attempt, df['PostalCode'][ind]))\n",
    "                attempt = attempt + 1\n",
    "                sleep(0.01/randint(1,10000))\n",
    "                pass\n",
    "            else:\n",
    "                raise\n",
    "        \n",
    "    lat_list.append(round(lat_lng_coords[0], 6))\n",
    "    lng_list.append(round(lat_lng_coords[1], 6))\n",
    "    lat_lng_coords = None\n",
    "        \n",
    "    sys.stdout.write(\"Location retrieval progress: %d%%   \\r\" % (ind/df['PostalCode'].size*100))\n",
    "    sys.stdout.flush()\n",
    "    \n",
    "    sleep(0.01/randint(1,10000))\n",
    "\n",
    "sys.stdout.write(\"Location retrieval progress: %d%%   \\r\" % (100))\n",
    "\n",
    "df['Latitude']=lat_list\n",
    "df['Longitude']=lng_list\n",
    "\n",
    "df"
   ]
  },
  {
   "cell_type": "code",
   "execution_count": 68,
   "metadata": {},
   "outputs": [
    {
     "name": "stdout",
     "output_type": "stream",
     "text": [
      "Location retrieval progress: 10%   \r"
     ]
    }
   ],
   "source": []
  }
 ],
 "metadata": {
  "kernelspec": {
   "display_name": "Python 3",
   "language": "python",
   "name": "python3"
  },
  "language_info": {
   "codemirror_mode": {
    "name": "ipython",
    "version": 3
   },
   "file_extension": ".py",
   "mimetype": "text/x-python",
   "name": "python",
   "nbconvert_exporter": "python",
   "pygments_lexer": "ipython3",
   "version": "3.7.4"
  }
 },
 "nbformat": 4,
 "nbformat_minor": 2
}
